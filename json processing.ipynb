{
 "cells": [
  {
   "cell_type": "code",
   "execution_count": 1,
   "metadata": {},
   "outputs": [],
   "source": [
    "import json\n",
    "import os\n",
    "import copy\n",
    "import numpy as np"
   ]
  },
  {
   "cell_type": "code",
   "execution_count": 2,
   "metadata": {},
   "outputs": [],
   "source": [
    "with open('nkbvs_selected_29_10_2019.json') as json_data:\n",
    "    json_file = json.load(json_data)\n",
    "    json_data.close()"
   ]
  },
  {
   "cell_type": "code",
   "execution_count": 3,
   "metadata": {},
   "outputs": [],
   "source": [
    "new_id_classes = {1:13, 2:13, 3:13, 4:13, 5:13, 6:13, 7:13, 8:13, 9:13, 10:13, 11:13,\n",
    "                  12:1,\n",
    "                  13:2,\n",
    "                  14:3,\n",
    "                  15:4,\n",
    "                  16:6,\n",
    "                  17:7,\n",
    "                  18:8,\n",
    "                  19:10, 20:10,\n",
    "                  21:25, 22:25, 23:25, 24:25, 25:25, 26:25, 27:25, 28:25,\n",
    "                  29:0, 30:0, 31:0, 32:0, 33:0, 34:0    \n",
    "}\n",
    "\n",
    "# new_name_classes = {13:'road signs',\n",
    "#                     1:'person',\n",
    "#                     2:'bicycle',\n",
    "#                     3:'car',\n",
    "#                     4:'motorcycle',\n",
    "#                     5:'bus',\n",
    "#                     7:'train',\n",
    "#                     8:'truck',\n",
    "#                     10:'traffic light',\n",
    "#                     16:'animal'\n",
    "# }"
   ]
  },
  {
   "cell_type": "code",
   "execution_count": 4,
   "metadata": {},
   "outputs": [],
   "source": [
    "for i, record in enumerate(json_file['annotations']):\n",
    "    record['category_id'] = new_id_classes[record['category_id']]\n",
    "    json_file['annotations'][i] = record\n",
    "        \n",
    "flag = True\n",
    "while flag:\n",
    "    flag = False\n",
    "    for i, record in enumerate(json_file['annotations']):\n",
    "        if record['category_id'] == 0:\n",
    "            json_file['annotations'].pop(i)\n",
    "            flag = True\n",
    "            break\n",
    "\n",
    "json_file['categories'] = [{\"supercategory\": \"person\",\"id\": 1,\"name\": \"person\"},\n",
    "                           {\"supercategory\": \"vehicle\",\"id\": 2,\"name\": \"bicycle\"},\n",
    "                           {\"supercategory\": \"vehicle\",\"id\": 3,\"name\": \"car\"},\n",
    "                           {\"supercategory\": \"vehicle\",\"id\": 4,\"name\": \"motorcycle\"},\n",
    "                           {\"supercategory\": \"vehicle\",\"id\": 5,\"name\": \"airplane\"},\n",
    "                           {\"supercategory\": \"vehicle\",\"id\": 6,\"name\": \"bus\"},\n",
    "                           {\"supercategory\": \"vehicle\",\"id\": 7,\"name\": \"train\"},\n",
    "                           {\"supercategory\": \"vehicle\",\"id\": 8,\"name\": \"truck\"},\n",
    "                           {\"supercategory\": \"vehicle\",\"id\": 9,\"name\": \"boat\"},\n",
    "                           {\"supercategory\": \"outdoor\",\"id\": 10,\"name\": \"traffic light\"},\n",
    "                           {\"supercategory\": \"outdoor\",\"id\": 11,\"name\": \"fire hydrant\"},\n",
    "                           {\"supercategory\": \"outdoor\",\"id\": 13,\"name\": \"stop sign\"},\n",
    "                           {\"supercategory\": \"outdoor\",\"id\": 14,\"name\": \"parking meter\"},\n",
    "                           {\"supercategory\": \"outdoor\",\"id\": 15,\"name\": \"bench\"},\n",
    "                           {\"supercategory\": \"animal\",\"id\": 16,\"name\": \"bird\"},\n",
    "                           {\"supercategory\": \"animal\",\"id\": 17,\"name\": \"cat\"},\n",
    "                           {\"supercategory\": \"animal\",\"id\": 18,\"name\": \"dog\"},\n",
    "                           {\"supercategory\": \"animal\",\"id\": 19,\"name\": \"horse\"},\n",
    "                           {\"supercategory\": \"animal\",\"id\": 20,\"name\": \"sheep\"},\n",
    "                           {\"supercategory\": \"animal\",\"id\": 21,\"name\": \"cow\"},\n",
    "                           {\"supercategory\": \"animal\",\"id\": 22,\"name\": \"elephant\"},\n",
    "                           {\"supercategory\": \"animal\",\"id\": 23,\"name\": \"bear\"},\n",
    "                           {\"supercategory\": \"animal\",\"id\": 24,\"name\": \"zebra\"},\n",
    "                           {\"supercategory\": \"animal\",\"id\": 25,\"name\": \"giraffe\"},\n",
    "                           {\"supercategory\": \"accessory\",\"id\": 27,\"name\": \"backpack\"},\n",
    "                           {\"supercategory\": \"accessory\",\"id\": 28,\"name\": \"umbrella\"},\n",
    "                           {\"supercategory\": \"accessory\",\"id\": 31,\"name\": \"handbag\"},\n",
    "                           {\"supercategory\": \"accessory\",\"id\": 32,\"name\": \"tie\"},\n",
    "                           {\"supercategory\": \"accessory\",\"id\": 33,\"name\": \"suitcase\"},\n",
    "                           {\"supercategory\": \"sports\",\"id\": 34,\"name\": \"frisbee\"},\n",
    "                           {\"supercategory\": \"sports\",\"id\": 35,\"name\": \"skis\"},\n",
    "                           {\"supercategory\": \"sports\",\"id\": 36,\"name\": \"snowboard\"},\n",
    "                           {\"supercategory\": \"sports\",\"id\": 37,\"name\": \"sports ball\"},\n",
    "                           {\"supercategory\": \"sports\",\"id\": 38,\"name\": \"kite\"},\n",
    "                           {\"supercategory\": \"sports\",\"id\": 39,\"name\": \"baseball bat\"},\n",
    "                           {\"supercategory\": \"sports\",\"id\": 40,\"name\": \"baseball glove\"},\n",
    "                           {\"supercategory\": \"sports\",\"id\": 41,\"name\": \"skateboard\"},\n",
    "                           {\"supercategory\": \"sports\",\"id\": 42,\"name\": \"surfboard\"},\n",
    "                           {\"supercategory\": \"sports\",\"id\": 43,\"name\": \"tennis racket\"},\n",
    "                           {\"supercategory\": \"kitchen\",\"id\": 44,\"name\": \"bottle\"},\n",
    "                           {\"supercategory\": \"kitchen\",\"id\": 46,\"name\": \"wine glass\"},\n",
    "                           {\"supercategory\": \"kitchen\",\"id\": 47,\"name\": \"cup\"},\n",
    "                           {\"supercategory\": \"kitchen\",\"id\": 48,\"name\": \"fork\"},\n",
    "                           {\"supercategory\": \"kitchen\",\"id\": 49,\"name\": \"knife\"},\n",
    "                           {\"supercategory\": \"kitchen\",\"id\": 50,\"name\": \"spoon\"},\n",
    "                           {\"supercategory\": \"kitchen\",\"id\": 51,\"name\": \"bowl\"},\n",
    "                           {\"supercategory\": \"food\",\"id\": 52,\"name\": \"banana\"},\n",
    "                           {\"supercategory\": \"food\",\"id\": 53,\"name\": \"apple\"},\n",
    "                           {\"supercategory\": \"food\",\"id\": 54,\"name\": \"sandwich\"},\n",
    "                           {\"supercategory\": \"food\",\"id\": 55,\"name\": \"orange\"},\n",
    "                           {\"supercategory\": \"food\",\"id\": 56,\"name\": \"broccoli\"},\n",
    "                           {\"supercategory\": \"food\",\"id\": 57,\"name\": \"carrot\"},\n",
    "                           {\"supercategory\": \"food\",\"id\": 58,\"name\": \"hot dog\"},\n",
    "                           {\"supercategory\": \"food\",\"id\": 59,\"name\": \"pizza\"},\n",
    "                           {\"supercategory\": \"food\",\"id\": 60,\"name\": \"donut\"},\n",
    "                           {\"supercategory\": \"food\",\"id\": 61,\"name\": \"cake\"},\n",
    "                           {\"supercategory\": \"furniture\",\"id\": 62,\"name\": \"chair\"},\n",
    "                           {\"supercategory\": \"furniture\",\"id\": 63,\"name\": \"couch\"},\n",
    "                           {\"supercategory\": \"furniture\",\"id\": 64,\"name\": \"potted plant\"},\n",
    "                           {\"supercategory\": \"furniture\",\"id\": 65,\"name\": \"bed\"},\n",
    "                           {\"supercategory\": \"furniture\",\"id\": 67,\"name\": \"dining table\"},\n",
    "                           {\"supercategory\": \"furniture\",\"id\": 70,\"name\": \"toilet\"},\n",
    "                           {\"supercategory\": \"electronic\",\"id\": 72,\"name\": \"tv\"},\n",
    "                           {\"supercategory\": \"electronic\",\"id\": 73,\"name\": \"laptop\"},\n",
    "                           {\"supercategory\": \"electronic\",\"id\": 74,\"name\": \"mouse\"},\n",
    "                           {\"supercategory\": \"electronic\",\"id\": 75,\"name\": \"remote\"},\n",
    "                           {\"supercategory\": \"electronic\",\"id\": 76,\"name\": \"keyboard\"},\n",
    "                           {\"supercategory\": \"electronic\",\"id\": 77,\"name\": \"cell phone\"},\n",
    "                           {\"supercategory\": \"appliance\",\"id\": 78,\"name\": \"microwave\"},\n",
    "                           {\"supercategory\": \"appliance\",\"id\": 79,\"name\": \"oven\"},\n",
    "                           {\"supercategory\": \"appliance\",\"id\": 80,\"name\": \"toaster\"},\n",
    "                           {\"supercategory\": \"appliance\",\"id\": 81,\"name\": \"sink\"},\n",
    "                           {\"supercategory\": \"appliance\",\"id\": 82,\"name\": \"refrigerator\"},\n",
    "                           {\"supercategory\": \"indoor\",\"id\": 84,\"name\": \"book\"},\n",
    "                           {\"supercategory\": \"indoor\",\"id\": 85,\"name\": \"clock\"},\n",
    "                           {\"supercategory\": \"indoor\",\"id\": 86,\"name\": \"vase\"},\n",
    "                           {\"supercategory\": \"indoor\",\"id\": 87,\"name\": \"scissors\"},\n",
    "                           {\"supercategory\": \"indoor\",\"id\": 88,\"name\": \"teddy bear\"},\n",
    "                           {\"supercategory\": \"indoor\",\"id\": 89,\"name\": \"hair drier\"},\n",
    "                           {\"supercategory\": \"indoor\",\"id\": 90,\"name\": \"toothbrush\"}]"
   ]
  },
  {
   "cell_type": "code",
   "execution_count": 5,
   "metadata": {},
   "outputs": [],
   "source": [
    "json_train = copy.deepcopy(json_file)\n",
    "json_test = copy.deepcopy(json_file)"
   ]
  },
  {
   "cell_type": "code",
   "execution_count": 6,
   "metadata": {},
   "outputs": [],
   "source": [
    "dir_path_train_images = 'train_set'\n",
    "dir_path_test_images = 'test_set'"
   ]
  },
  {
   "cell_type": "code",
   "execution_count": 7,
   "metadata": {
    "collapsed": true
   },
   "outputs": [
    {
     "ename": "FileNotFoundError",
     "evalue": "[Errno 2] No such file or directory: 'train_set'",
     "output_type": "error",
     "traceback": [
      "\u001b[0;31m---------------------------------------------------------------------------\u001b[0m",
      "\u001b[0;31mFileNotFoundError\u001b[0m                         Traceback (most recent call last)",
      "\u001b[0;32m<ipython-input-7-16bd24e08305>\u001b[0m in \u001b[0;36m<module>\u001b[0;34m\u001b[0m\n\u001b[0;32m----> 1\u001b[0;31m \u001b[0;32mfor\u001b[0m \u001b[0mfilename\u001b[0m \u001b[0;32min\u001b[0m \u001b[0mos\u001b[0m\u001b[0;34m.\u001b[0m\u001b[0mlistdir\u001b[0m\u001b[0;34m(\u001b[0m\u001b[0mdir_path_train_images\u001b[0m\u001b[0;34m)\u001b[0m\u001b[0;34m:\u001b[0m\u001b[0;34m\u001b[0m\u001b[0;34m\u001b[0m\u001b[0m\n\u001b[0m\u001b[1;32m      2\u001b[0m     \u001b[0mid_image\u001b[0m \u001b[0;34m=\u001b[0m \u001b[0;34m[\u001b[0m\u001b[0mx\u001b[0m\u001b[0;34m[\u001b[0m\u001b[0;34m'id'\u001b[0m\u001b[0;34m]\u001b[0m \u001b[0;32mfor\u001b[0m \u001b[0mx\u001b[0m \u001b[0;32min\u001b[0m \u001b[0mjson_test\u001b[0m\u001b[0;34m[\u001b[0m\u001b[0;34m'images'\u001b[0m\u001b[0;34m]\u001b[0m \u001b[0;32mif\u001b[0m \u001b[0mx\u001b[0m\u001b[0;34m[\u001b[0m\u001b[0;34m'file_name'\u001b[0m\u001b[0;34m]\u001b[0m \u001b[0;34m==\u001b[0m \u001b[0mfilename\u001b[0m\u001b[0;34m]\u001b[0m\u001b[0;34m\u001b[0m\u001b[0;34m\u001b[0m\u001b[0m\n\u001b[1;32m      3\u001b[0m     \u001b[0;32mif\u001b[0m \u001b[0mlen\u001b[0m\u001b[0;34m(\u001b[0m\u001b[0mid_image\u001b[0m\u001b[0;34m)\u001b[0m \u001b[0;34m!=\u001b[0m \u001b[0;36m0\u001b[0m\u001b[0;34m:\u001b[0m\u001b[0;34m\u001b[0m\u001b[0;34m\u001b[0m\u001b[0m\n\u001b[1;32m      4\u001b[0m         \u001b[0mid_image\u001b[0m \u001b[0;34m=\u001b[0m \u001b[0mid_image\u001b[0m\u001b[0;34m[\u001b[0m\u001b[0;36m0\u001b[0m\u001b[0;34m]\u001b[0m\u001b[0;34m\u001b[0m\u001b[0;34m\u001b[0m\u001b[0m\n\u001b[1;32m      5\u001b[0m         \u001b[0mjson_test\u001b[0m\u001b[0;34m[\u001b[0m\u001b[0;34m'images'\u001b[0m\u001b[0;34m]\u001b[0m\u001b[0;34m.\u001b[0m\u001b[0mremove\u001b[0m\u001b[0;34m(\u001b[0m\u001b[0;34m[\u001b[0m\u001b[0mx\u001b[0m \u001b[0;32mfor\u001b[0m \u001b[0mx\u001b[0m \u001b[0;32min\u001b[0m \u001b[0mjson_test\u001b[0m\u001b[0;34m[\u001b[0m\u001b[0;34m'images'\u001b[0m\u001b[0;34m]\u001b[0m \u001b[0;32mif\u001b[0m \u001b[0mx\u001b[0m\u001b[0;34m[\u001b[0m\u001b[0;34m'file_name'\u001b[0m\u001b[0;34m]\u001b[0m \u001b[0;34m==\u001b[0m \u001b[0mfilename\u001b[0m\u001b[0;34m]\u001b[0m\u001b[0;34m[\u001b[0m\u001b[0;36m0\u001b[0m\u001b[0;34m]\u001b[0m\u001b[0;34m)\u001b[0m\u001b[0;34m\u001b[0m\u001b[0;34m\u001b[0m\u001b[0m\n",
      "\u001b[0;31mFileNotFoundError\u001b[0m: [Errno 2] No such file or directory: 'train_set'"
     ]
    }
   ],
   "source": [
    "for filename in os.listdir(dir_path_train_images):\n",
    "    id_image = [x['id'] for x in json_test['images'] if x['file_name'] == filename]\n",
    "    if len(id_image) != 0:\n",
    "        id_image = id_image[0]\n",
    "        json_test['images'].remove([x for x in json_test['images'] if x['file_name'] == filename][0])\n",
    "    \n",
    "for filename in os.listdir(dir_path_test_images):\n",
    "    id_image = [x['id'] for x in json_train['images'] if x['file_name'] == filename]\n",
    "    if len(id_image) != 0:\n",
    "        id_image = id_image[0]\n",
    "        json_train['images'].remove([x for x in json_train['images'] if x['file_name'] == filename][0])\n",
    "    \n",
    "for filename in os.listdir(dir_path_train_images):\n",
    "    id_image = [x['id'] for x in json_file['images'] if x['file_name'] == filename]\n",
    "    id_image = id_image[0]\n",
    "    flag = True\n",
    "    while flag:\n",
    "        flag = False\n",
    "        for x in json_test['annotations']:\n",
    "            if x['image_id'] == id_image:\n",
    "                json_test['annotations'].remove(x)\n",
    "                flag = True\n",
    "            if flag : break\n",
    "                \n",
    "    \n",
    "for filename in os.listdir(dir_path_test_images):\n",
    "    id_image = [x['id'] for x in json_file['images'] if x['file_name'] == filename]\n",
    "    id_image = id_image[0]\n",
    "    flag = True\n",
    "    while flag:\n",
    "        flag = False\n",
    "        for x in json_train['annotations']:\n",
    "            if x['image_id'] == id_image:\n",
    "                json_train['annotations'].remove(x)\n",
    "                flag = True\n",
    "            if flag : break"
   ]
  },
  {
   "cell_type": "code",
   "execution_count": 25,
   "metadata": {},
   "outputs": [],
   "source": [
    "with open(\"train_set.json\", \"w\") as fp:\n",
    "    json.dump(json_train, fp) \n",
    "with open(\"test_set.json\", \"w\") as fp:\n",
    "    json.dump(json_test, fp) "
   ]
  },
  {
   "cell_type": "code",
   "execution_count": null,
   "metadata": {},
   "outputs": [],
   "source": []
  }
 ],
 "metadata": {
  "kernelspec": {
   "display_name": "Python 3",
   "language": "python",
   "name": "python3"
  },
  "language_info": {
   "codemirror_mode": {
    "name": "ipython",
    "version": 3
   },
   "file_extension": ".py",
   "mimetype": "text/x-python",
   "name": "python",
   "nbconvert_exporter": "python",
   "pygments_lexer": "ipython3",
   "version": "3.7.4"
  }
 },
 "nbformat": 4,
 "nbformat_minor": 2
}
