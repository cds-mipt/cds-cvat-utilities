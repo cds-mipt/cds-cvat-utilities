{
 "cells": [
  {
   "cell_type": "code",
   "execution_count": 66,
   "metadata": {},
   "outputs": [],
   "source": [
    "import os\n",
    "import cv2\n",
    "import json\n",
    "import numpy as np"
   ]
  },
  {
   "cell_type": "code",
   "execution_count": 74,
   "metadata": {},
   "outputs": [],
   "source": [
    "json_filename = '99_Taganrog-Day-Night.json'\n",
    "with open(json_filename) as json_file:\n",
    "    json_data = json.load(json_file)\n",
    "    json_file.close()"
   ]
  },
  {
   "cell_type": "code",
   "execution_count": 75,
   "metadata": {},
   "outputs": [],
   "source": [
    "output_dir = 'datasets/Cropped_traffic_lights_TAGANROG'\n",
    "if not(os.path.isdir(output_dir)):\n",
    "    os.mkdir(output_dir)"
   ]
  },
  {
   "cell_type": "code",
   "execution_count": 76,
   "metadata": {},
   "outputs": [],
   "source": [
    "for i, record in enumerate(json_data['annotations']):\n",
    "    if record['conf'] == 'NAR':\n",
    "        record['conf'] = 'R'\n",
    "        json_data['annotations'][i] = record\n",
    "    elif record['conf'] == 'RNA':\n",
    "        record['conf'] = 'R'\n",
    "        json_data['annotations'][i] = record\n",
    "    elif record['conf'] == 'GY':\n",
    "        record['conf'] = 'Y'\n",
    "        json_data['annotations'][i] = record\n",
    "    elif record['conf'] == 'RN':\n",
    "        record['conf'] = 'R'\n",
    "        json_data['annotations'][i] = record"
   ]
  },
  {
   "cell_type": "code",
   "execution_count": 77,
   "metadata": {},
   "outputs": [],
   "source": [
    "for record_image in json_data['images']:\n",
    "    file_name = record_image['file_name']\n",
    "    image = cv2.imread('datasets/'+file_name)\n",
    "    file_name = file_name.split('/')[-1]\n",
    "    list_of_bboxes = [record_annot['bbox'] for record_annot in json_data['annotations'] \n",
    "                      if record_annot['image_id'] == record_image['id']]\n",
    "    list_of_confs = [record_annot['conf'] for record_annot in json_data['annotations'] \n",
    "                      if record_annot['image_id'] == record_image['id']]\n",
    "    if list_of_bboxes != []:\n",
    "        for i,box in enumerate(list_of_bboxes):\n",
    "            x1, y1, width, height = box[0], box[1], box[2], box[3]\n",
    "            x2 = x1 + width\n",
    "            y2 = y1 + height\n",
    "            #x_left, x_right, y_top, y_bottom = width / 2, width/2, height / 2, height / 2\n",
    "            x_left, x_right, y_top, y_bottom = 0,0,0,0\n",
    "            x1, x2, y1, y2 = max(x1-x_left,0), min(x2+x_right,image.shape[1]), max(y1-y_top,0), min(y2+y_bottom,image.shape[0]) \n",
    "            x1, x2, y1, y2 = int(x1), int(x2), int(y1), int(y2)\n",
    "            cropped_image = image[y1:y2+1, x1:x2+1]\n",
    "            intermediate_dir = list_of_confs[i]\n",
    "            if json_filename == '97_NAMI-Polygon-Day-Night_25_11_2019.json':\n",
    "                day_night = record_image['file_name'].split('/')[-2]\n",
    "            else:\n",
    "                day_night = ''\n",
    "            if not(os.path.isdir(output_dir+'/'+intermediate_dir)):\n",
    "                os.mkdir(output_dir+'/'+intermediate_dir)\n",
    "            cv2.imwrite(output_dir+'/'+intermediate_dir+'/'+day_night+'_'+file_name[:file_name.rfind('.')]+'_'+str(i)+file_name[file_name.rfind('.'):],cropped_image)"
   ]
  },
  {
   "cell_type": "code",
   "execution_count": null,
   "metadata": {},
   "outputs": [],
   "source": []
  }
 ],
 "metadata": {
  "kernelspec": {
   "display_name": "Python 3",
   "language": "python",
   "name": "python3"
  },
  "language_info": {
   "codemirror_mode": {
    "name": "ipython",
    "version": 3
   },
   "file_extension": ".py",
   "mimetype": "text/x-python",
   "name": "python",
   "nbconvert_exporter": "python",
   "pygments_lexer": "ipython3",
   "version": "3.7.4"
  }
 },
 "nbformat": 4,
 "nbformat_minor": 2
}
