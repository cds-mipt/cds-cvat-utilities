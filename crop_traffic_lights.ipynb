{
 "cells": [
  {
   "cell_type": "code",
   "execution_count": 66,
   "metadata": {},
   "outputs": [],
   "source": [
    "import os\n",
    "import cv2\n",
    "import json\n",
    "import numpy as np"
   ]
  },
  {
   "cell_type": "markdown",
   "metadata": {},
   "source": [
    "Местоположение файла \"crop_traffic_lights.ipynb\", когда я его вызывал: '/home/solomentsev_yaroslav/Jupyter_Notebook'\n",
    "Все дальнейшие условные пути в коде указаны относительно вышеприведенной директории.\n",
    "Местоположение исходного датасета NAMI-Day-Night: '/home/solomentsev_yaroslav/Jupyter_Notebook/datasets/NAMI-Day-Night'\n",
    "Местоположение исходного датасета NKBVS_mixed: '/home/solomentsev_yaroslav/Jupyter_Notebook/datasets/NKBVS_mixed'\n",
    "Местоположение аннотаций json: '/home/solomentsev_yaroslav/Jupyter_Notebook'"
   ]
  },
  {
   "cell_type": "code",
   "execution_count": 74,
   "metadata": {},
   "outputs": [],
   "source": [
    "json_filename = '99_Taganrog-Day-Night.json'\n",
    "with open(json_filename) as json_file:\n",
    "    json_data = json.load(json_file)\n",
    "    json_file.close()"
   ]
  },
  {
   "cell_type": "code",
   "execution_count": 75,
   "metadata": {},
   "outputs": [],
   "source": [
    "output_dir = 'datasets/Cropped_traffic_lights_TAGANROG' # Это путь, куда будут сохраняться кропнутые файл.\n",
    "# В этой же папке создадутся папки с наименованиями цветов светофоров: 'G', 'NA', 'R', 'Y', 'YR'\n",
    "if not(os.path.isdir(output_dir)):\n",
    "    os.mkdir(output_dir)"
   ]
  },
  {
   "cell_type": "code",
   "execution_count": 76,
   "metadata": {},
   "outputs": [],
   "source": [
    "# Здесь устраняются косяки с аннотациями цветов светофоров. Например, когда отметили 'NAR', вместо положенного 'R'\n",
    "for i, record in enumerate(json_data['annotations']):\n",
    "    if record['conf'] == 'NAR':\n",
    "        record['conf'] = 'R'\n",
    "        json_data['annotations'][i] = record\n",
    "    elif record['conf'] == 'RNA':\n",
    "        record['conf'] = 'R'\n",
    "        json_data['annotations'][i] = record\n",
    "    elif record['conf'] == 'GY':\n",
    "        record['conf'] = 'Y'\n",
    "        json_data['annotations'][i] = record\n",
    "    elif record['conf'] == 'RN':\n",
    "        record['conf'] = 'R'\n",
    "        json_data['annotations'][i] = record"
   ]
  },
  {
   "cell_type": "code",
   "execution_count": 77,
   "metadata": {},
   "outputs": [],
   "source": [
    "for record_image in json_data['images']:\n",
    "    file_name = record_image['file_name'] # В file_name помимо самого имени файла также включаются папки. \n",
    "    # Для понимания вызывай команду json_data['images']\n",
    "    image = cv2.imread('datasets/'+file_name)\n",
    "    file_name = file_name.split('/')[-1] # Получаем наименование файла без имени папок к нему\n",
    "    list_of_bboxes = [record_annot['bbox'] for record_annot in json_data['annotations'] \n",
    "                      if record_annot['image_id'] == record_image['id']] # здесь получаем список всех боксов для данного изображения\n",
    "    list_of_confs = [record_annot['conf'] for record_annot in json_data['annotations'] # здесь получаем список цветов светофоров для данного изображения для соотвествующих боксов.Цвет светофора хранится в поле \"conf\"\n",
    "                      if record_annot['image_id'] == record_image['id']]\n",
    "    if list_of_bboxes != []:\n",
    "        for i,box in enumerate(list_of_bboxes):\n",
    "            x1, y1, width, height = box[0], box[1], box[2], box[3]\n",
    "            x2 = x1 + width\n",
    "            y2 = y1 + height\n",
    "            # x_left, x_right, y_top, y_bottom - это размеры в пикселях, которое нужно взять вокруг светофора. \n",
    "            # x_left захватывает область левее светофора, y_top захватывает область выше светофора и т.д. \n",
    "            #x_left, x_right, y_top, y_bottom = width / 2, width/2, height / 2, height / 2 # Здесь я делал размер захвата области вокруг светофора равнм половине ширине или высоте светофора \n",
    "            x_left, x_right, y_top, y_bottom = 0,0,0,0 # Изображения, находящиеся в папке /datasets/Traffic_lights получены при отсутствии захвата окружающей области светофора, т.е. при нулевых данных параметрах\n",
    "            x1, x2, y1, y2 = max(x1-x_left,0), min(x2+x_right,image.shape[1]), max(y1-y_top,0), min(y2+y_bottom,image.shape[0]) \n",
    "            x1, x2, y1, y2 = int(x1), int(x2), int(y1), int(y2)\n",
    "            cropped_image = image[y1:y2+1, x1:x2+1]\n",
    "            intermediate_dir = list_of_confs[i] # intermediate_dir - Папка с именем цвета светофора\n",
    "            if json_filename == '97_NAMI-Polygon-Day-Night_25_11_2019.json':\n",
    "                day_night = record_image['file_name'].split('/')[-2] # у датасета 97_NAMI-Polygon-Day-Night есть разделение на Day и Night. Изображения хранятся в соответствующих папках \"Day\" и \"Night\". \n",
    "            #Используем наименование папки, в которой хранится файл (Day или Night) для того, чтобы поместить 'Day' или 'Night' в имя выходного файла, см. дальше\n",
    "            else:\n",
    "                day_night = '' # В других датасетах, например, в NKBVS_mixed, не раделения папок на Day или Night\n",
    "            if not(os.path.isdir(output_dir+'/'+intermediate_dir)):\n",
    "                os.mkdir(output_dir+'/'+intermediate_dir)\n",
    "            cv2.imwrite(output_dir+'/'+intermediate_dir+'/'+day_night+'_'+file_name[:file_name.rfind('.')]+'_'+str(i)+file_name[file_name.rfind('.'):],cropped_image)\n",
    "            # Здесь file_name.rfind('.') означает найти позицию с конца имени файла, где есть точка. Таким образом я могу выделить имя файла без '.png' (file_name[:file_name.rfind('.')]+) или наоборот выделить только расширение файла без его имени (file_name[file_name.rfind('.'):])"
   ]
  }
 ],
 "metadata": {
  "kernelspec": {
   "display_name": "Python 3",
   "language": "python",
   "name": "python3"
  },
  "language_info": {
   "codemirror_mode": {
    "name": "ipython",
    "version": 3
   },
   "file_extension": ".py",
   "mimetype": "text/x-python",
   "name": "python",
   "nbconvert_exporter": "python",
   "pygments_lexer": "ipython3",
   "version": "3.7.4"
  }
 },
 "nbformat": 4,
 "nbformat_minor": 2
}
